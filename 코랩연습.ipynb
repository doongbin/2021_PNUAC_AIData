{
  "nbformat": 4,
  "nbformat_minor": 0,
  "metadata": {
    "colab": {
      "name": "코랩연습.ipynb",
      "provenance": [],
      "toc_visible": true,
      "mount_file_id": "1ZinfzLGQzr6cqd5eFNXo-ZHiArA33-sc",
      "authorship_tag": "ABX9TyMIoznD8Dzdjv9B1YHDfprK",
      "include_colab_link": true
    },
    "kernelspec": {
      "name": "python3",
      "display_name": "Python 3"
    },
    "language_info": {
      "name": "python"
    },
    "accelerator": "GPU"
  },
  "cells": [
    {
      "cell_type": "markdown",
      "metadata": {
        "id": "view-in-github",
        "colab_type": "text"
      },
      "source": [
        "<a href=\"https://colab.research.google.com/github/doongbin/2021_PNUAC_AIData/blob/main/%EC%BD%94%EB%9E%A9%EC%97%B0%EC%8A%B5.ipynb\" target=\"_parent\"><img src=\"https://colab.research.google.com/assets/colab-badge.svg\" alt=\"Open In Colab\"/></a>"
      ]
    },
    {
      "cell_type": "markdown",
      "metadata": {
        "id": "hErKjclJ--Qq"
      },
      "source": [
        "#코랩연습 파일"
      ]
    },
    {
      "cell_type": "markdown",
      "metadata": {
        "id": "4xniGRkV_Ix8"
      },
      "source": [
        "#**텍스트 셀**\n",
        "+ 두 번 클릭 하여이 셀을 편집\n",
        "+ 마크 다운 구문을 사용하여 작성\n",
        " + 마크 다운은 텍스트 기반의 마크업언어\n",
        " + README 파일이나 온라인 문서, 혹은 일반 텍스트 편집기로 문서 양식을 편집할 때 사용\n",
        " + * 마크 다운 문법 : [문법보기](<https://colab.research.google.com/notebooks/markdown_guide.ipynb>)"
      ]
    },
    {
      "cell_type": "markdown",
      "metadata": {
        "id": "XC-bF_g4CJnz"
      },
      "source": [
        "## 코드 셀"
      ]
    },
    {
      "cell_type": "code",
      "metadata": {
        "colab": {
          "base_uri": "https://localhost:8080/"
        },
        "id": "bS8kB9qS_L6K",
        "outputId": "0d60fc9b-b767-41f0-89c2-a9ae07e4e10b"
      },
      "source": [
        "print('Hello Python!')"
      ],
      "execution_count": 2,
      "outputs": [
        {
          "output_type": "stream",
          "text": [
            "Hello Python!\n"
          ],
          "name": "stdout"
        }
      ]
    },
    {
      "cell_type": "code",
      "metadata": {
        "id": "m5baqkDoCCvo"
      },
      "source": [
        "x=10"
      ],
      "execution_count": 3,
      "outputs": []
    },
    {
      "cell_type": "code",
      "metadata": {
        "id": "0iBmh7EnxA2o"
      },
      "source": [
        "y=20"
      ],
      "execution_count": 4,
      "outputs": []
    },
    {
      "cell_type": "code",
      "metadata": {
        "colab": {
          "base_uri": "https://localhost:8080/"
        },
        "id": "RutkqKA4xE98",
        "outputId": "47a5527c-9878-4924-f98e-5c11baef1211"
      },
      "source": [
        "print(f'{x} , {y}')"
      ],
      "execution_count": 5,
      "outputs": [
        {
          "output_type": "stream",
          "text": [
            "10 , 20\n"
          ],
          "name": "stdout"
        }
      ]
    },
    {
      "cell_type": "code",
      "metadata": {
        "id": "EhPT7jBMxc7s"
      },
      "source": [
        ""
      ],
      "execution_count": null,
      "outputs": []
    }
  ]
}